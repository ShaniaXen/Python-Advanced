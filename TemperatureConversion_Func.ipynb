{
 "cells": [
  {
   "cell_type": "code",
   "execution_count": 9,
   "metadata": {},
   "outputs": [
    {
     "name": "stdout",
     "output_type": "stream",
     "text": [
      "86.0\n",
      "35.0\n"
     ]
    }
   ],
   "source": [
    "### Temperature Conversion\n",
    "def convert_temperature(temp,unit):\n",
    "    \"\"\"This function converts temperature between Celsius to Fahrenheit\"\"\"\n",
    "    if unit == 'C':\n",
    "        return temp * 9/5 + 32  ## Celsius To Farenheit\n",
    "    elif unit == \"F\":\n",
    "        return (temp-32) * 5/9  ## Fahrenheit to Celsius\n",
    "    else:\n",
    "        return None\n",
    "#a = convert_temperature(25,'C')\n",
    "#print(a)\n",
    "#b = convert_temperature(77,'F')\n",
    "#print(b)\n",
    "\n",
    "## You don’t need to store every return value in a variable.\n",
    "## If you just want to see the output, \n",
    "## you can directly pass it into print().\n",
    "\n",
    "print(convert_temperature(30,'C'))\n",
    "print(convert_temperature(95,'F'))"
   ]
  },
  {
   "cell_type": "code",
   "execution_count": null,
   "metadata": {},
   "outputs": [],
   "source": []
  }
 ],
 "metadata": {
  "kernelspec": {
   "display_name": "Python 3",
   "language": "python",
   "name": "python3"
  },
  "language_info": {
   "codemirror_mode": {
    "name": "ipython",
    "version": 3
   },
   "file_extension": ".py",
   "mimetype": "text/x-python",
   "name": "python",
   "nbconvert_exporter": "python",
   "pygments_lexer": "ipython3",
   "version": "3.12.0"
  }
 },
 "nbformat": 4,
 "nbformat_minor": 2
}
