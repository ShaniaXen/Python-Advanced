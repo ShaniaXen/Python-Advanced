{
 "cells": [
  {
   "cell_type": "markdown",
   "metadata": {},
   "source": [
    "A Function is a block of code that performs a specific task.Functions help in organizing code,reusing code and improving readability\n",
    "\n",
    "### Basic syntax of a Function:\n",
    "\n",
    "def  function_name(parameters):\n",
    "    # code block (body of the function)\n",
    "    return result"
   ]
  },
  {
   "cell_type": "code",
   "execution_count": null,
   "metadata": {},
   "outputs": [],
   "source": [
    "# Defining a function\n",
    "def function_name(parameters):\n",
    "    \"\"\"Docstring\"\"\"\n",
    "    # Code block (body of the function)\n",
    "    # Perform operations\n",
    "    return result or expression\n",
    "\n",
    "# Example usage\n",
    "def greet(name):\n",
    "    return f\"Hello, {name}!\"\n",
    "\n",
    "print(greet(\"Alice\"))"
   ]
  },
  {
   "cell_type": "code",
   "execution_count": null,
   "metadata": {},
   "outputs": [],
   "source": [
    "# A docstring is a special string used to document a function, class, or module.\n",
    "# It is enclosed in triple quotes and is typically the first statement in the function, class, or module.\n",
    "\n",
    "def example_function():\n",
    "    \"\"\"This is a docstring. It explains the purpose of the function.\"\"\"\n",
    "    return \"This function does something.\"\n",
    "##explain the purpose of the function\n",
    "\n",
    "##So that other developers (or future you) can understand it\n",
    "\n",
    "##It helps tools like help(), documentation generators, IDEs show descriptions\n",
    "# Accessing the docstring\n",
    "print(example_function.__doc__)"
   ]
  },
  {
   "cell_type": "code",
   "execution_count": null,
   "metadata": {},
   "outputs": [],
   "source": [
    "### Why functions are required\n",
    "## if we check a number is even or odd\n",
    "num = 24\n",
    "if num%2 == 0:\n",
    "    print(\"the number is even\")\n",
    "else:\n",
    "    print(\"the number is odd\")\n",
    "   ### to reuse this code in multiple places write inside a function "
   ]
  },
  {
   "cell_type": "code",
   "execution_count": null,
   "metadata": {},
   "outputs": [
    {
     "name": "stdout",
     "output_type": "stream",
     "text": [
      "The number is even\n"
     ]
    }
   ],
   "source": [
    "def even_or_odd(num):  ## Function creation with one parameter\n",
    "    \"\"\"This function finds even or odd\"\"\"\n",
    "    if num %2 == 0:\n",
    "        print(\"The number is even\")\n",
    "    else:\n",
    "        print(\"The number is odd\")\n",
    "even_or_odd(24)  ## Function calling \n"
   ]
  },
  {
   "cell_type": "code",
   "execution_count": 3,
   "metadata": {},
   "outputs": [
    {
     "name": "stdout",
     "output_type": "stream",
     "text": [
      "7\n"
     ]
    }
   ],
   "source": [
    "### Function with multiple parameters\n",
    "def add(a,b):\n",
    "    \"\"\"Addind two variables\"\"\"\n",
    "    return a+b   ## instead of c = a+b\n",
    "result = add(3,4)\n",
    "print(result)"
   ]
  },
  {
   "cell_type": "code",
   "execution_count": 5,
   "metadata": {},
   "outputs": [
    {
     "name": "stdout",
     "output_type": "stream",
     "text": [
      "Hello, shania welcome to the world of AI\n"
     ]
    }
   ],
   "source": [
    "### Default parameters\n",
    "\n",
    "def greet(name):\n",
    "    print(f\"Hello, {name} welcome to the world of AI\")\n",
    "\n",
    "greet(\"shania\")\n"
   ]
  },
  {
   "cell_type": "code",
   "execution_count": null,
   "metadata": {},
   "outputs": [
    {
     "name": "stdout",
     "output_type": "stream",
     "text": [
      "Hello, Guest welcome to the world of AI\n"
     ]
    }
   ],
   "source": [
    "## How Default parameters work?\n",
    "\n",
    "def greet(name=\"Guest\"):  ## gave default value in the parameter\n",
    "    print(f\"Hello, {name} welcome to the world of AI\")\n",
    "\n",
    "\n",
    "\n",
    "greet()  # it takes \"Guest\" as the default parameter"
   ]
  },
  {
   "cell_type": "code",
   "execution_count": null,
   "metadata": {},
   "outputs": [],
   "source": []
  },
  {
   "cell_type": "markdown",
   "metadata": {},
   "source": [
    "### Variable Length Arguments\n",
    "   1. Positional and Keyword Arguments"
   ]
  },
  {
   "cell_type": "code",
   "execution_count": 10,
   "metadata": {},
   "outputs": [
    {
     "name": "stdout",
     "output_type": "stream",
     "text": [
      "1\n",
      "2\n",
      "3\n",
      "4\n",
      "5\n",
      "6\n",
      "7\n",
      "8\n",
      "9\n",
      "shania\n"
     ]
    }
   ],
   "source": [
    "def print_numbers(*shania):\n",
    "    for number in shania:\n",
    "        print(number)\n",
    "\n",
    "print_numbers(1,2,3,4,5,6,7,8,9,\"shania\")  # here *shania acts as a reference \n",
    "                                              # to these positional arguments"
   ]
  },
  {
   "cell_type": "code",
   "execution_count": 21,
   "metadata": {},
   "outputs": [
    {
     "name": "stdout",
     "output_type": "stream",
     "text": [
      "Positional_arguments: 1\n",
      "Positional_arguments: 2\n",
      "Positional_arguments: 3\n",
      "Positional_arguments: 4\n",
      "Positional_arguments: 5\n",
      "Positional_arguments: Amy\n",
      "keyword_argument: name : shania\n",
      "keyword_argument: age : 20\n",
      "keyword_argument: country : India\n"
     ]
    }
   ],
   "source": [
    "## **kwargs is a variable length parameter collects key-value pairs while calling\n",
    "## Collects any number of unknown keyword arguments into a dictionary \n",
    "def print_details(*args,**kwargs):\n",
    "    for val in args:\n",
    "        print(f\"Positional_arguments: {val}\")\n",
    "    for key,value in kwargs.items():\n",
    "        print(f\"keyword_argument: {key} : {value}\")\n",
    "\n",
    "print_details(1,2,3,4,5,\"Amy\")\n",
    "print_details(name = \"shania\", age = \"20\", country = \"India\")  ## **kwargs reference these positional key arguments\n"
   ]
  },
  {
   "cell_type": "code",
   "execution_count": 22,
   "metadata": {},
   "outputs": [
    {
     "name": "stdout",
     "output_type": "stream",
     "text": [
      "Positional_arguments: 1\n",
      "Positional_arguments: 2\n",
      "Positional_arguments: 3\n",
      "Positional_arguments: 4\n",
      "Positional_arguments: 5\n",
      "Positional_arguments: shania\n",
      "keyword_argument: name : shania\n",
      "keyword_argument: age : 20\n",
      "keyword_argument: country : India\n"
     ]
    }
   ],
   "source": [
    "print_details(1,2,3,4,5,\"shania\",name = \"shania\", age = \"20\", country = \"India\")"
   ]
  },
  {
   "cell_type": "code",
   "execution_count": null,
   "metadata": {},
   "outputs": [],
   "source": [
    "## Return multiple parameters\n",
    "def multiply(a,b):\n",
    "    return a*b,a\n",
    "multiply(2,3)"
   ]
  }
 ],
 "metadata": {
  "kernelspec": {
   "display_name": "Python 3",
   "language": "python",
   "name": "python3"
  },
  "language_info": {
   "codemirror_mode": {
    "name": "ipython",
    "version": 3
   },
   "file_extension": ".py",
   "mimetype": "text/x-python",
   "name": "python",
   "nbconvert_exporter": "python",
   "pygments_lexer": "ipython3",
   "version": "3.12.0"
  }
 },
 "nbformat": 4,
 "nbformat_minor": 2
}
