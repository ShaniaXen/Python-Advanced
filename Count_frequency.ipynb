{
 "cells": [
  {
   "cell_type": "code",
   "execution_count": null,
   "metadata": {},
   "outputs": [
    {
     "name": "stdout",
     "output_type": "stream",
     "text": [
      "{'hello': 1, 'how': 1, 'are': 1, 'you': 1, 'doing': 1, 'i': 3, 'am': 1, 'shania,': 1, 'go': 1, 'to': 1, 'gym': 1, 'evry': 1, 'morning': 1, 'and': 1, 'in': 2, 'the': 1, 'evenings': 1, 'chill': 1, 'out': 1, 'swimming': 1, 'pool': 1}\n"
     ]
    }
   ],
   "source": [
    "\n",
    "### A Function to Read A File and Count the frequency of each word\n",
    "\n",
    "def count_word_frequency(file_path):\n",
    "    word_count = {}\n",
    "    with open(file_path,'r') as file:\n",
    "        for line in file:\n",
    "            words = line.split()\n",
    "            for word in words:\n",
    "                word = word.lower().strip('<>?:\"|+*!@#')\n",
    "                word_count[word] = word_count.get(word,0)+1\n",
    "    return word_count\n",
    "file_path = 'sample.txt'\n",
    "word_frequency = count_word_frequency(file_path)\n",
    "print(word_frequency)\n",
    "\n"
   ]
  },
  {
   "cell_type": "code",
   "execution_count": null,
   "metadata": {},
   "outputs": [],
   "source": []
  }
 ],
 "metadata": {
  "kernelspec": {
   "display_name": "Python 3",
   "language": "python",
   "name": "python3"
  },
  "language_info": {
   "codemirror_mode": {
    "name": "ipython",
    "version": 3
   },
   "file_extension": ".py",
   "mimetype": "text/x-python",
   "name": "python",
   "nbconvert_exporter": "python",
   "pygments_lexer": "ipython3",
   "version": "3.12.0"
  }
 },
 "nbformat": 4,
 "nbformat_minor": 2
}
