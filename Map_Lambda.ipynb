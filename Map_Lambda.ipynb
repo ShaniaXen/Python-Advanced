{
 "cells": [
  {
   "cell_type": "markdown",
   "metadata": {},
   "source": [
    "A higher-order function is just a function that either takes another function as an argument or Returns a function\n",
    "map, filter, sorted ...etc  are not lambda functions, but higher order functions because they take a function (often lambda ) as input\n",
    "\n",
    "map() Function with lambda ::\n",
    "syntax: map(function, iterable)\n",
    "map() applies the function to every item in the iterable and returns a map object(which is like a lazy list)"
   ]
  },
  {
   "cell_type": "code",
   "execution_count": 4,
   "metadata": {},
   "outputs": [
    {
     "name": "stdout",
     "output_type": "stream",
     "text": [
      "[2, 4, 6, 8, 10]\n"
     ]
    }
   ],
   "source": [
    "### Why use map() with Lambda : instaed of writing a whole named function for a simple task, we can pass\n",
    "## an anonymous one-liner lambda\n",
    "\n",
    "# Traditional way (with def)\n",
    "def double(x):\n",
    "    return x*2\n",
    "num = [1,2,3,4,5]\n",
    "result = list(map(double,num))\n",
    "print(result)\n",
    "\n"
   ]
  },
  {
   "cell_type": "code",
   "execution_count": null,
   "metadata": {},
   "outputs": [
    {
     "name": "stdout",
     "output_type": "stream",
     "text": [
      "[2, 4, 6, 8, 10]\n"
     ]
    }
   ],
   "source": [
    "### Lambda way(short and sweet)\n",
    "## Example -1:\n",
    "num1 = [1,2,3,4,5]\n",
    "result = list(map(lambda x: x*2, num))  # takes each number x, and multiplies it by 2\n",
    "print(result)   # 2,4,6,8,10"
   ]
  },
  {
   "cell_type": "code",
   "execution_count": 8,
   "metadata": {},
   "outputs": [
    {
     "name": "stdout",
     "output_type": "stream",
     "text": [
      "[32.0, 50.0, 68.0, 86.0, 104.0]\n"
     ]
    }
   ],
   "source": [
    "## Example-2:\n",
    "celsius = [0,10,20,30,40]\n",
    "fahrenheit = list(map(lambda c: c * 9/5 + 32, celsius))\n",
    "print(fahrenheit) "
   ]
  },
  {
   "cell_type": "code",
   "execution_count": 1,
   "metadata": {},
   "outputs": [
    {
     "name": "stdout",
     "output_type": "stream",
     "text": [
      "[5, 7, 9]\n"
     ]
    }
   ],
   "source": [
    "### Can we map multiple iterators:\n",
    "numbers1 = [1,2,3]\n",
    "numbers2 = [4,5,6]\n",
    "added_numbers = list(map(lambda x,y: x+y, numbers1,numbers2))\n",
    "print(added_numbers)"
   ]
  },
  {
   "cell_type": "code",
   "execution_count": 2,
   "metadata": {},
   "outputs": [
    {
     "name": "stdout",
     "output_type": "stream",
     "text": [
      "['APPLE', 'BANANNA', 'CHERRY', 'MANGO']\n"
     ]
    }
   ],
   "source": [
    "## map to convert a list of strings to integers\n",
    "## use map to convert strings to integers\n",
    "\n",
    "words = ['apple', 'bananna', 'cherry','mango']\n",
    "upper_word = list(map(str.upper,words))\n",
    "print(upper_word)\n"
   ]
  },
  {
   "cell_type": "code",
   "execution_count": 5,
   "metadata": {},
   "outputs": [
    {
     "name": "stdout",
     "output_type": "stream",
     "text": [
      "['Amy', 'Jonathan']\n"
     ]
    }
   ],
   "source": [
    "def get_name(person):\n",
    "    return person['name']\n",
    "\n",
    "people = [{'name' : 'Amy', 'age' : 26}, \n",
    "         {'name':'Jonathan','age' : 35}]\n",
    "#list(map(get_name, people))\n",
    "result = list(map(lambda person: person['name'], people))\n",
    "print(result)\n",
    "         \n",
    "\n"
   ]
  },
  {
   "cell_type": "markdown",
   "metadata": {},
   "source": [
    "## Conclusion\n",
    "The map()function is a powerful tool for applying transformations to iterable data structures.It can be used with regular functions, lambda functions, and even multiple iterables, providing a versatile approach to data processing in Python. By understanding and utilizing map(),you can write more efficient and readable code."
   ]
  },
  {
   "cell_type": "code",
   "execution_count": null,
   "metadata": {},
   "outputs": [],
   "source": []
  }
 ],
 "metadata": {
  "kernelspec": {
   "display_name": "Python 3",
   "language": "python",
   "name": "python3"
  },
  "language_info": {
   "codemirror_mode": {
    "name": "ipython",
    "version": 3
   },
   "file_extension": ".py",
   "mimetype": "text/x-python",
   "name": "python",
   "nbconvert_exporter": "python",
   "pygments_lexer": "ipython3",
   "version": "3.12.0"
  }
 },
 "nbformat": 4,
 "nbformat_minor": 2
}
