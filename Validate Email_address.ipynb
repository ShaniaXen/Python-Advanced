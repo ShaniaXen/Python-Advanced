{
 "cells": [
  {
   "cell_type": "code",
   "execution_count": 16,
   "metadata": {},
   "outputs": [
    {
     "name": "stdout",
     "output_type": "stream",
     "text": [
      "True\n",
      "False\n",
      "True\n",
      "False\n"
     ]
    }
   ],
   "source": [
    "import re  \n",
    " ## regex module contains some functions like re.match(),re.search(),re.findall\n",
    "##  re.sub(),re.compile()....its a smart tool to find,match or replace text based on rules you define\n",
    "## Valid e-mail check//Email validation fuction\n",
    "\n",
    "def is_valid_email(email):\n",
    "    \"\"\"This function checks if the email is valid\"\"\"\n",
    "    pattern = r'^[a-zA-Z0-9._+-]+@[a-zA-Z0-9-]+\\.[a-zA-Z0-9.-]+$'\n",
    "    return re.match(pattern, email) is not None\n",
    "# calling function\n",
    "print(is_valid_email(\"test@example.com\"))   ### Output: True\n",
    "print(is_valid_email(\"invalid-email\"))  ### Output: False\n",
    "\n",
    "## In regex (+string plus sign) means at least few characters are going to repeat\n",
    "## In regex,' .' a plain dot means any character like- a,@,1,etc..\n",
    "## So we write ' \\. '-- backslash escapes the dot,meaning \"just a plain dot\"\n",
    "\n",
    "print(is_valid_email(\"shania.luxe123@gmail.com\"))\n",
    "print(is_valid_email(\"shania*luxe123@myyahoo.in\"))\n",
    "\n",
    "\n",
    "\n"
   ]
  },
  {
   "cell_type": "code",
   "execution_count": null,
   "metadata": {},
   "outputs": [],
   "source": []
  }
 ],
 "metadata": {
  "kernelspec": {
   "display_name": "Python 3",
   "language": "python",
   "name": "python3"
  },
  "language_info": {
   "codemirror_mode": {
    "name": "ipython",
    "version": 3
   },
   "file_extension": ".py",
   "mimetype": "text/x-python",
   "name": "python",
   "nbconvert_exporter": "python",
   "pygments_lexer": "ipython3",
   "version": "3.12.0"
  }
 },
 "nbformat": 4,
 "nbformat_minor": 2
}
