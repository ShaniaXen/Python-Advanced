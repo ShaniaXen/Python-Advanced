{
 "cells": [
  {
   "cell_type": "markdown",
   "metadata": {},
   "source": [
    "## LAMBDA FUNCTIONS:\n",
    "Lambda functions are small anonymous(no name) functions defined using the lamba keyword.They can have any number number of arguments but only one expression.They are commonly used for short operations or as arguments to higher-order functions\n",
    "\n",
    "✅ Use def when…\t                       💡 Use lambda when…\n",
    "You need multiple lines/logic\t        Just a tiny one-line operation\n",
    "You want to give the function a name\tYou don’t care about naming it\n",
    "You need to reuse it in many places\t    You just use it once, maybe inside another function\n",
    "\n",
    "### When is lambda really helpful?\n",
    "In higher order functions -- This is a secret weapon\n",
    "A higher order function is a function that takes another function as input!\n",
    "(A function that takes another function as an argument or returns a function.)\n",
    "\n",
    "## There are some Python built-in functions that we can use inside lambda function. Such Commaonly used Higher-Order Functions are:\n",
    "--> map(function.iterable)\n",
    "--> filter(function,iterable)\n",
    "--> reduce(function, iterable)==> comes from functools\n",
    "--> sorted(iterable, key=function)\n",
    "--> any()\n",
    "--> all()\n",
    "--> zip()\n",
    "-->enumerate()\n",
    "--> max(0)/min()\n",
    "These functions are not lambda functionsbut higher-order functions because they take a function(often lambda) as input"
   ]
  },
  {
   "cell_type": "code",
   "execution_count": null,
   "metadata": {},
   "outputs": [],
   "source": []
  }
 ],
 "metadata": {
  "kernelspec": {
   "display_name": "Python 3",
   "language": "python",
   "name": "python3"
  },
  "language_info": {
   "name": "python",
   "version": "3.12.0"
  }
 },
 "nbformat": 4,
 "nbformat_minor": 2
}
