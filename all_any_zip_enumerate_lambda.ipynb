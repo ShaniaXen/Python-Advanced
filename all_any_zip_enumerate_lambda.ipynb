{
 "cells": [
  {
   "cell_type": "code",
   "execution_count": null,
   "metadata": {},
   "outputs": [
    {
     "name": "stdout",
     "output_type": "stream",
     "text": [
      "True\n",
      "True\n"
     ]
    }
   ],
   "source": [
    "\n",
    "values = [False, True, False]\n",
    "print(any(values))  # True\n",
    "\n",
    "## Using Lambda any()\n",
    "values = [False, True, False]\n",
    "print(any(values))  # True\n"
   ]
  },
  {
   "cell_type": "code",
   "execution_count": 2,
   "metadata": {},
   "outputs": [
    {
     "name": "stdout",
     "output_type": "stream",
     "text": [
      "True\n",
      "True\n"
     ]
    }
   ],
   "source": [
    "values = [True, True]\n",
    "print(all(values))  # True\n",
    "\n",
    "## Using Lanbda all()\n",
    "values = [True, True]\n",
    "print(all(values))  # True\n"
   ]
  },
  {
   "cell_type": "code",
   "execution_count": 3,
   "metadata": {},
   "outputs": [
    {
     "name": "stdout",
     "output_type": "stream",
     "text": [
      "[('a', 90), ('b', 95)]\n",
      "[('a', 90), ('b', 95)]\n"
     ]
    }
   ],
   "source": [
    "names = ['a', 'b']\n",
    "marks = [90, 95]\n",
    "print(list(zip(names, marks)))  # [('a', 90), ('b', 95)]\n",
    "\n",
    "## using lambda: combine multiple iterables element wise\n",
    "names = ['a', 'b']\n",
    "marks = [90, 95]\n",
    "print(list(zip(names, marks)))  # [('a', 90), ('b', 95)]\n"
   ]
  },
  {
   "cell_type": "code",
   "execution_count": null,
   "metadata": {},
   "outputs": [
    {
     "name": "stdout",
     "output_type": "stream",
     "text": [
      "0 apple\n",
      "1 banana\n",
      "['0: apple', '1: banana']\n"
     ]
    }
   ],
   "source": [
    "fruits = ['apple', 'banana']\n",
    "for i, fruit in enumerate(fruits):\n",
    "    print(i, fruit)\n",
    "# 0 apple\n",
    "# 1 banana\n",
    "\n",
    "## with lambda inside map() and enumerate()\n",
    "## Attach an index to each element\n",
    "fruits = ['apple', 'banana']\n",
    "result = list(map(lambda x: f\"{x[0]}: {x[1]}\", enumerate(fruits)))\n",
    "print(result)  # ['0: apple', '1: banana']\n",
    "\n"
   ]
  },
  {
   "cell_type": "code",
   "execution_count": 6,
   "metadata": {},
   "outputs": [
    {
     "name": "stdout",
     "output_type": "stream",
     "text": [
      "['0: apple', '1: banana']\n",
      "['0: apple', '1: banana']\n"
     ]
    }
   ],
   "source": [
    "fruits = ['apple', 'banana']\n",
    "result = list(map(lambda x: f\"{x[0]}: {x[1]}\", enumerate(fruits)))\n",
    "print(result)  # ['0: apple', '1: banana']\n",
    "\n",
    "## zip() with lambda (recap + creative use)\n",
    "#  pair elements and compute something\n",
    "\n",
    "fruits = ['apple', 'banana']\n",
    "result = list(map(lambda x: f\"{x[0]}: {x[1]}\", enumerate(fruits)))\n",
    "print(result)  # ['0: apple', '1: banana']\n"
   ]
  },
  {
   "cell_type": "code",
   "execution_count": null,
   "metadata": {},
   "outputs": [],
   "source": []
  }
 ],
 "metadata": {
  "kernelspec": {
   "display_name": "Python 3",
   "language": "python",
   "name": "python3"
  },
  "language_info": {
   "codemirror_mode": {
    "name": "ipython",
    "version": 3
   },
   "file_extension": ".py",
   "mimetype": "text/x-python",
   "name": "python",
   "nbconvert_exporter": "python",
   "pygments_lexer": "ipython3",
   "version": "3.12.0"
  }
 },
 "nbformat": 4,
 "nbformat_minor": 2
}
