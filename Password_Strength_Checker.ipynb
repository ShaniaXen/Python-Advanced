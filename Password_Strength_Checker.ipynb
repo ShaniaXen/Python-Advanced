{
 "cells": [
  {
   "cell_type": "code",
   "execution_count": null,
   "metadata": {},
   "outputs": [
    {
     "name": "stdout",
     "output_type": "stream",
     "text": [
      "False\n",
      "False\n",
      "True\n"
     ]
    }
   ],
   "source": [
    "### Password strength checker\n",
    "### Length should be more than 8characters\n",
    "### At least one character: in lower case,upper case,number,special character resp..\n",
    "\n",
    "def is_strong_password(password):\n",
    "    \"\"\"This function checks if the password is strong or not\"\"\"\n",
    "    if len(password) < 8:\n",
    "        return False\n",
    "    if not any(char.isdigit() for char in password):\n",
    "        return False\n",
    "    if not any(char.islower() for char in password):\n",
    "        return False\n",
    "    if not any(char.isupper() for char in password):\n",
    "        return False\n",
    "    if not any(char in '@#$%^&*()_+' for char in password):\n",
    "        return False\n",
    "    return True\n",
    "## calling function\n",
    "print(is_strong_password(\"WeakPWd\"))\n",
    "print(is_strong_password(\"Str0ngPwdd\"))\n",
    "print(is_strong_password(\"Shaniacoder@1234\"))\n",
    "\n",
    "    "
   ]
  },
  {
   "cell_type": "markdown",
   "metadata": {},
   "source": [
    "Method:\t          What it checks:\t          Example:\n",
    "\n",
    "len()\t          Number of characters\t      len(\"Abc\") = 3\n",
    "char.isdigit()\t  Is it a digit (0-9)?\t      '3'.isdigit() = True\n",
    "char.islower()\t  Is it a lowercase letter?\t  'a'.islower() = True\n",
    "char.isupper()\t  Is it an uppercase letter?  'A'.isupper() = True\n",
    "char in '@#$'\t  Is it a special symbol      '@' in '@#$' = True"
   ]
  }
 ],
 "metadata": {
  "kernelspec": {
   "display_name": "Python 3",
   "language": "python",
   "name": "python3"
  },
  "language_info": {
   "codemirror_mode": {
    "name": "ipython",
    "version": 3
   },
   "file_extension": ".py",
   "mimetype": "text/x-python",
   "name": "python",
   "nbconvert_exporter": "python",
   "pygments_lexer": "ipython3",
   "version": "3.12.0"
  }
 },
 "nbformat": 4,
 "nbformat_minor": 2
}
