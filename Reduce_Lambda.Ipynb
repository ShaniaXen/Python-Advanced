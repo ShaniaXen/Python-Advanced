{
 "cells": [
  {
   "cell_type": "markdown",
   "metadata": {},
   "source": [
    "## reduce()-- Reduce a sequence to a single value\n",
    "it's not a built-in like map() or filter() -- we must import from functools\n",
    "## It applies a function cumulatively to the elements of an iterable , from left to right, reducing it to a single final value\n",
    "Cumulative tasks like sum,product,jion,max..etc"
   ]
  },
  {
   "cell_type": "code",
   "execution_count": 1,
   "metadata": {},
   "outputs": [
    {
     "name": "stdout",
     "output_type": "stream",
     "text": [
      "24\n"
     ]
    }
   ],
   "source": [
    "## Traditional way--Find product of numbers\n",
    "from functools import reduce\n",
    "\n",
    "def multiply(x, y):\n",
    "    return x * y\n",
    "\n",
    "numbers = [1, 2, 3, 4]\n",
    "result = reduce(multiply, numbers)\n",
    "print(result)\n",
    "# Output: 24  (1*2*3*4)\n"
   ]
  },
  {
   "cell_type": "code",
   "execution_count": 3,
   "metadata": {},
   "outputs": [
    {
     "name": "stdout",
     "output_type": "stream",
     "text": [
      "120\n"
     ]
    }
   ],
   "source": [
    "## lambdaway-- much shorter\n",
    "##Example-1: Find product of numbers\n",
    "numbers1 = [1,2,3,4,5]\n",
    "result1 = reduce(lambda x,y: x*y,numbers1)\n",
    "print(result1)"
   ]
  },
  {
   "cell_type": "code",
   "execution_count": 4,
   "metadata": {},
   "outputs": [
    {
     "name": "stdout",
     "output_type": "stream",
     "text": [
      "I am Shania\n"
     ]
    }
   ],
   "source": [
    "##Example-2: Concatenate all strings in a list\n",
    "\n",
    "words = ['I', 'am', 'Shania']\n",
    "sentence = reduce(lambda x, y: x + ' ' + y, words)\n",
    "print(sentence)\n",
    "# Output: \"I am Shania\"\n"
   ]
  },
  {
   "cell_type": "code",
   "execution_count": null,
   "metadata": {},
   "outputs": [],
   "source": []
  }
 ],
 "metadata": {
  "kernelspec": {
   "display_name": "Python 3",
   "language": "python",
   "name": "python3"
  },
  "language_info": {
   "codemirror_mode": {
    "name": "ipython",
    "version": 3
   },
   "file_extension": ".py",
   "mimetype": "text/x-python",
   "name": "python",
   "nbconvert_exporter": "python",
   "pygments_lexer": "ipython3",
   "version": "3.12.0"
  }
 },
 "nbformat": 4,
 "nbformat_minor": 2
}
