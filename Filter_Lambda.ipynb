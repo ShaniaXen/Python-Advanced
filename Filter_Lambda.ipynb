{
 "cells": [
  {
   "cell_type": "markdown",
   "metadata": {},
   "source": [
    "filter() HIgh-order FInction with Lambda:\n",
    "filter(function, iterable), it filters from an iterable based on whether the function returns True or False.\n",
    "We use filter() with lambda to keep only the items that satisfy a condition, using a short , anonymous function"
   ]
  },
  {
   "cell_type": "code",
   "execution_count": 4,
   "metadata": {},
   "outputs": [
    {
     "name": "stdout",
     "output_type": "stream",
     "text": [
      "[2, 4, 6]\n",
      "True\n"
     ]
    }
   ],
   "source": [
    "## Traditional way of writing the function for even numbers:\n",
    "\n",
    "def is_even(x):\n",
    "    return x%2 == 0\n",
    "num = [1,2,3,4,5,6]\n",
    "result = list(filter(is_even, num))\n",
    "print(result)\n",
    "\n",
    "def even(num):\n",
    "    if num%2 == 0:\n",
    "        return True\n",
    "print(even(26))\n"
   ]
  },
  {
   "cell_type": "code",
   "execution_count": null,
   "metadata": {},
   "outputs": [
    {
     "name": "stdout",
     "output_type": "stream",
     "text": [
      "[2, 4, 6]\n"
     ]
    }
   ],
   "source": [
    "## Lambda way(clean and quick)\n",
    "## Example-1: Filter only even numbers\n",
    "\n",
    "nums = [1,2,3,4,5,6]\n",
    "result1 = list(filter(lambda x: x % 2 == 0, nums))\n",
    "print(result)"
   ]
  },
  {
   "cell_type": "code",
   "execution_count": null,
   "metadata": {},
   "outputs": [],
   "source": []
  },
  {
   "cell_type": "code",
   "execution_count": 3,
   "metadata": {},
   "outputs": [
    {
     "name": "stdout",
     "output_type": "stream",
     "text": [
      "['Jonathan', 'Shania']\n"
     ]
    }
   ],
   "source": [
    "## Example-2: Filter names with more than 4 letters\n",
    "names = [\"Amy\", \"Jonathan\", \"Lia\", \"Mia\", \"Shania\"]\n",
    "long_names = list(filter(lambda name: len(name) > 4, names))\n",
    "print(long_names)\n",
    "\n"
   ]
  },
  {
   "cell_type": "code",
   "execution_count": null,
   "metadata": {},
   "outputs": [],
   "source": [
    "## Takes a functio and an itersble ==> filter(func, list)\n",
    "## Returns a filterd object,Use list() to see values\n",
    "## Used with lambda for quick conditions saves time and space"
   ]
  },
  {
   "cell_type": "code",
   "execution_count": 5,
   "metadata": {},
   "outputs": [
    {
     "data": {
      "text/plain": [
       "<filter at 0x10d3cabf0>"
      ]
     },
     "execution_count": 5,
     "metadata": {},
     "output_type": "execute_result"
    }
   ],
   "source": [
    "lst = [1,2,3,4,5,6,7,8,9,10]\n",
    "filter(even,lst)"
   ]
  },
  {
   "cell_type": "code",
   "execution_count": 6,
   "metadata": {},
   "outputs": [
    {
     "data": {
      "text/plain": [
       "[2, 4, 6, 8, 10]"
      ]
     },
     "execution_count": 6,
     "metadata": {},
     "output_type": "execute_result"
    }
   ],
   "source": [
    "list(filter(even,lst))"
   ]
  },
  {
   "cell_type": "code",
   "execution_count": 7,
   "metadata": {},
   "outputs": [
    {
     "name": "stdout",
     "output_type": "stream",
     "text": [
      "[2, 4, 6, 8, 10]\n"
     ]
    }
   ],
   "source": [
    "result = list(filter(lambda x:x%2==0,lst))\n",
    "print(result)"
   ]
  },
  {
   "cell_type": "code",
   "execution_count": 9,
   "metadata": {},
   "outputs": [
    {
     "name": "stdout",
     "output_type": "stream",
     "text": [
      "[6, 7, 8, 9, 10]\n"
     ]
    }
   ],
   "source": [
    "greater = list(filter(lambda x:x>5,lst))\n",
    "print(greater)"
   ]
  },
  {
   "cell_type": "code",
   "execution_count": 10,
   "metadata": {},
   "outputs": [
    {
     "name": "stdout",
     "output_type": "stream",
     "text": [
      "[6, 8, 10]\n"
     ]
    }
   ],
   "source": [
    "## filter with a lambda function and multiple conditions\n",
    "## even and greater than 5\n",
    "efive = list(filter(lambda x:x>5 and x%2 == 0, lst))\n",
    "print(efive)"
   ]
  },
  {
   "cell_type": "code",
   "execution_count": null,
   "metadata": {},
   "outputs": [
    {
     "data": {
      "text/plain": [
       "[{'name': 'Liam', 'age': 32}, {'name': 'John', 'age': 28}]"
      ]
     },
     "execution_count": 14,
     "metadata": {},
     "output_type": "execute_result"
    }
   ],
   "source": [
    "## Filter() to check if the age is greater than 25 in dictionaries\n",
    "people = [{'name': 'Mia', 'age': 21},\n",
    "          {'name': 'Liam', 'age': 32},\n",
    "          {'name': 'John', 'age': 28}]\n",
    "def age(person):\n",
    "    return person['age']>25\n",
    "list(filter(age,people))\n",
    "\n"
   ]
  },
  {
   "cell_type": "code",
   "execution_count": 18,
   "metadata": {},
   "outputs": [
    {
     "name": "stdout",
     "output_type": "stream",
     "text": [
      "[{'name': 'Liam', 'age': 32}, {'name': 'John', 'age': 28}]\n"
     ]
    }
   ],
   "source": [
    "result = list(filter(lambda  person: person['age']>25,people))\n",
    "print(result)"
   ]
  },
  {
   "cell_type": "markdown",
   "metadata": {},
   "source": [
    "The filter() is a powerful tool for creating iterators that filter items out of an iterable based on a function. It is commonly used for data cleaning,filtering objects, and removing unwanted elements from lists. By mastering filter(),you can write more concise and efficient code for processing and manipulating collections in Python."
   ]
  }
 ],
 "metadata": {
  "kernelspec": {
   "display_name": "Python 3",
   "language": "python",
   "name": "python3"
  },
  "language_info": {
   "codemirror_mode": {
    "name": "ipython",
    "version": 3
   },
   "file_extension": ".py",
   "mimetype": "text/x-python",
   "name": "python",
   "nbconvert_exporter": "python",
   "pygments_lexer": "ipython3",
   "version": "3.12.0"
  }
 },
 "nbformat": 4,
 "nbformat_minor": 2
}
