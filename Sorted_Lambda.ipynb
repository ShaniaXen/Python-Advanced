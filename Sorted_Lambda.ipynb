{
 "cells": [
  {
   "cell_type": "markdown",
   "metadata": {},
   "source": [
    "## Sorted() - Higher-order Function with Lambda\n",
    "sorted(iterable, key=func, reverse = False)\n",
    "It sorts our data based on a custom rule(defined using the key function)\n",
    "## Why use lambda with sorted()?\n",
    "It helps us customize how sorting happens--like by length, value,last character.. etc.--without creating a seperate function\n",
    "\n",
    "It is used via key,returns new sorted list and original list stays unchanged\n",
    "Accepts key=lambda for custom rules; quick inline logic\n",
    "Add reverse=True to sort descending like sorted(data, reverse=True)"
   ]
  },
  {
   "cell_type": "code",
   "execution_count": 1,
   "metadata": {},
   "outputs": [
    {
     "name": "stdout",
     "output_type": "stream",
     "text": [
      "['Amy', 'Lia', 'Mia', 'Shania', 'Jonathan']\n"
     ]
    }
   ],
   "source": [
    "## Traditional Way of sorting by string length:\n",
    "\n",
    "def name_length(name):\n",
    "    return len(name)\n",
    "names = [\"Amy\",\"Jonathan\",\"Lia\",\"Mia\", \"Shania\"]\n",
    "sorted_names = sorted(names, key=name_length)\n",
    "print(sorted_names)"
   ]
  },
  {
   "cell_type": "code",
   "execution_count": null,
   "metadata": {},
   "outputs": [
    {
     "name": "stdout",
     "output_type": "stream",
     "text": [
      "['Amy', 'Lia', 'Mia', 'Shania', 'Jonathan']\n"
     ]
    }
   ],
   "source": [
    "## Using Lambda function with sorted()\n",
    "## Example-1--> sorting by string length\n",
    "names1 = [[\"Amy\",\"Jonathan\",\"Lia\",\"Mia\", \"Shania\"]]\n",
    "sorted_names1 = sorted(names, key=lambda x: len(x))\n",
    "print(sorted_names1)"
   ]
  },
  {
   "cell_type": "code",
   "execution_count": 5,
   "metadata": {},
   "outputs": [
    {
     "name": "stdout",
     "output_type": "stream",
     "text": [
      "[('Kylie', 64), ('Bob', 78), ('Cara', 89), ('Alice', 95)]\n"
     ]
    }
   ],
   "source": [
    "## Example-2--> Sort Tuples by second value\n",
    "stud_marks = [('Alice', 95), ('Bob', 78), ('Cara', 89),('Kylie', 64)]\n",
    "sorted_marks = sorted(stud_marks,key=lambda x:x[1])\n",
    "print(sorted_marks)\n",
    "              "
   ]
  },
  {
   "cell_type": "code",
   "execution_count": null,
   "metadata": {},
   "outputs": [],
   "source": [
    "\n",
    "## Example-3--> Sorting strings by last chatacter\n",
    "words = ['bat', 'apple', 'cat', 'dog']\n",
    "sorted_words = sorted(words, key=lambda x: x[-1])\n",
    "print(sorted_words)\n",
    "# ['apple', 'cat', 'bat', 'dog']\n"
   ]
  },
  {
   "cell_type": "code",
   "execution_count": 6,
   "metadata": {},
   "outputs": [
    {
     "name": "stdout",
     "output_type": "stream",
     "text": [
      "['Jonathan', 'Shania', 'Amy', 'Lia', 'Mia']\n"
     ]
    }
   ],
   "source": [
    "names = ['Amy', 'Jonathan', 'Lia', 'Mia', 'Shania']\n",
    "sorted_names = sorted(names, key=lambda name: len(name), reverse=True)\n",
    "print(sorted_names)\n",
    "# ['Jonathan', 'Shania', 'Amy', 'Lia', 'Mia']\n"
   ]
  },
  {
   "cell_type": "code",
   "execution_count": null,
   "metadata": {},
   "outputs": [],
   "source": []
  }
 ],
 "metadata": {
  "kernelspec": {
   "display_name": "Python 3",
   "language": "python",
   "name": "python3"
  },
  "language_info": {
   "codemirror_mode": {
    "name": "ipython",
    "version": 3
   },
   "file_extension": ".py",
   "mimetype": "text/x-python",
   "name": "python",
   "nbconvert_exporter": "python",
   "pygments_lexer": "ipython3",
   "version": "3.12.0"
  }
 },
 "nbformat": 4,
 "nbformat_minor": 2
}
